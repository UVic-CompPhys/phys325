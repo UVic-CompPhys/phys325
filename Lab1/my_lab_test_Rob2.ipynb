{
 "cells": [
  {
   "cell_type": "markdown",
   "metadata": {},
   "source": [
    "## From Bob Kowalewski's Mathematica notebook"
   ]
  },
  {
   "cell_type": "markdown",
   "metadata": {},
   "source": [
    "Set up generation of data for two experiments to measure beam intensity.  Detectors are both fully efficient.  The acceptance due to absorption in the vacuum window at the end of the beamline is a common systematic.  Background is determined by a dedicated beam-off run, and it is assumed that the major contribution to background counts comes from real ambient radiation, so is correlated between the two detectors (since the background run was done simultaneously for the two).  The assumed variation in ambient background between the beam-off and beam-on runs is 5%.\n",
    "\n",
    "Simulate a set of 10000 trials where the true beam intensity is 10.0 Hz, where the beam-on runs are 1000s long, where the acceptance correction for the vacuum window is 0.800+-0.016, where the duration of the beam-off run is 10000s, where the background rate during the beam-off run is 2.5Hz, and where the rms variation in background rate between beam-off and beam-on runs is 5%.  All quantities can be modeled as having normally-distributed uncertainties.\n",
    "\n",
    "For each trial, take the number of counts generated, along with the estimated background rate, beam-on time and acceptance correction, and determine the beam intensity measured in each of the two detectors along with estimates of the uncertainties from statistical and systematic sources.  You should have, for each trial, two estimates of the beam intensity (one for each detector) and the associated uncertainties.  Using only this information, combine these into a single estimate of the beam intensity for each trial.  Based on the full set of trials, record the observed bias in the beam intensity determination and in the estimate of its uncertainty.  If you treat the measurements properly the bias should be consistent with zero."
   ]
  },
  {
   "cell_type": "code",
   "execution_count": 1,
   "metadata": {
    "collapsed": false
   },
   "outputs": [],
   "source": [
    "from __future__ import division\n",
    "from sympy import *\n",
    "import numpy as np\n",
    "import matplotlib.pyplot as plt\n",
    "from numpy.linalg import inv\n",
    "from time import time\n",
    "from scipy.optimize import fsolve\n",
    "\n",
    "# begin counting figures\n",
    "ifig=0\n",
    "for i in range(0,10000):\n",
    "    plt.close(i)\n",
    "\n",
    "def select_fig(ifig,close_fig=True):\n",
    "    if close_fig:\n",
    "        plt.close(ifig)\n",
    "    plt.figure(ifig)\n",
    "    \n",
    "fsize=14\n",
    "plt.rcParams['font.size'] = 14\n",
    "plt.rcParams['font.family'] = 'serif'\n",
    "\n",
    "init_printing()"
   ]
  },
  {
   "cell_type": "code",
   "execution_count": 2,
   "metadata": {
    "collapsed": true
   },
   "outputs": [],
   "source": [
    "# Clear[corbkg,bkrateR,BR];\n",
    "BR = symbols('BR')"
   ]
  },
  {
   "cell_type": "markdown",
   "metadata": {},
   "source": [
    "Input values for toy studies.  The assignment uses values obtained from one particular trial, given below"
   ]
  },
  {
   "cell_type": "code",
   "execution_count": 5,
   "metadata": {
    "collapsed": false
   },
   "outputs": [],
   "source": [
    "beamrateR = 10.0; # in Hertz, to be determined based on measurements \n",
    "nTsig1 = 1000.0; nTsig2 = 1000.0; # time with beam on (s) \n",
    "effaR = 0.80; deffaR = 0.016; # acceptance and uncertainty \n",
    "nTbkg = 10000.0; # background sample time duration \n",
    "corbkg = 0.05*10**(0); # fractional uncertainty associated with stability of background \n",
    "bkrateR = 2.5*10**(0); # nominal background rates in Hertz \n",
    "\n",
    "# Important !!!\n",
    "nTrials = 100; # with 1000 it takes about 4 minutes to execute the loop, and 40 minutes with 10000"
   ]
  },
  {
   "cell_type": "markdown",
   "metadata": {},
   "source": [
    "Set up arrays to keep track of generated counts and results"
   ]
  },
  {
   "cell_type": "code",
   "execution_count": 6,
   "metadata": {
    "collapsed": false
   },
   "outputs": [],
   "source": [
    "am1 = np.linspace(0,0,nTrials);\n",
    "am2 = np.linspace(0,0,nTrials);\n",
    "abkgm1 = np.linspace(0,0,nTrials);\n",
    "abkgm2 = np.linspace(0,0,nTrials);\n",
    "brAvg = np.linspace(0,0,nTrials);\n",
    "ebrAvgp = np.linspace(0,0,nTrials);\n",
    "ebrAvgm = np.linspace(0,0,nTrials);"
   ]
  },
  {
   "cell_type": "markdown",
   "metadata": {},
   "source": [
    "Generate toy data, calculate the two BRs and average them for each trial"
   ]
  },
  {
   "cell_type": "code",
   "execution_count": 7,
   "metadata": {
    "collapsed": false
   },
   "outputs": [
    {
     "name": "stdout",
     "output_type": "stream",
     "text": [
      "24.4063689709\n"
     ]
    }
   ],
   "source": [
    "t=time()\n",
    "for n in range(nTrials):\n",
    "    thisbkg = (1 + np.random.normal()*corbkg); # variation in bkg rate relative to beam-off \n",
    "    bkrate = bkrateR *thisbkg; # background rate for generating beam-on counts  \n",
    "    \n",
    "    effa = effaR + deffaR*np.random.normal(); # acceptance for actual apparatus \n",
    "    \n",
    "    m1 = np.random.poisson(nTsig1*effa*beamrateR); # counts recorded from beam \n",
    "    m1 += np.random.poisson(nTsig1*bkrate); # background in trial \n",
    "    m2 = np.random.poisson(nTsig2*effa*beamrateR);\n",
    "    m2 += np.random.poisson(nTsig2*bkrate);\n",
    "    am1[n] = m1; am2[n] = m2; # store generated counts \n",
    "    \n",
    "    bkg1m = np.random.poisson(bkrateR*nTbkg)*nTsig1/nTbkg; # bkg counts, scaled to beam-on \n",
    "    bkg2m = np.random.poisson(bkrateR*nTbkg)*nTsig2/nTbkg;\n",
    "    abkgm1[n] = bkg1m; abkgm2[n] = bkg2m; # store generated counts \n",
    "    \n",
    "    vbkg11m = bkg1m*nTsig1/nTbkg + bkg1m**2*corbkg**2; # error on bkg estimate, including systematic \n",
    "    vbkg22m = bkg2m*nTsig2/nTbkg + bkg2m**2*corbkg**2;\n",
    "    vbkg12m = bkg1m*bkg2m*corbkg**2; # correlated backround term \n",
    "\n",
    "    br1 = (m1-bkg1m)/nTsig1/effaR; # measured beam rate for detector 1 \n",
    "    br2 = (m2-bkg2m)/nTsig2/effaR;\n",
    "    BRin = (br1+br2)/2; # naive average; used to guide FindRoot below \n",
    "\n",
    "    f1 = BR/br1; f2 = BR/br2;  # this factor scales multiplicative uncertainties \n",
    "    \n",
    "    Vstat = Matrix([[m1/nTsig1**2/effaR**2,0],[0,m2/nTsig2**2/effaR**2]]); # note use of nominal acceptance effaR \n",
    "    Vbkg  = Matrix([[vbkg11m/nTsig1**2/effaR**2,vbkg12m/nTsig1/nTsig2/effaR**2], \n",
    "             [vbkg12m/nTsig1/nTsig2/effaR**2,vbkg22m/nTsig2**2/effaR**2]]);\n",
    "    VeffA = Matrix([[br1**2*f1**2*deffaR**2/effaR**2,br1*br2*f1*f2*deffaR**2/effaR**2], \n",
    "             [br1*br2*f1*f2*deffaR**2/effaR**2,br2**2*f2**2*deffaR**2/effaR**2]]);\n",
    "    Vtot = Vstat+Vbkg+VeffA; # total covariance; depends on parameter BR \n",
    "    \n",
    "    chi2 = (Matrix([br1-BR,br2-BR]).transpose()*Vtot.inv()*Matrix([br1-BR,br2-BR]))[0];\n",
    "    dchi2 = chi2.diff(BR)\n",
    "    def dfunc(x):\n",
    "        return dchi2.subs(BR,x)\n",
    "    aSol = fsolve(dfunc,BRin)\n",
    "    BRave = aSol\n",
    "    def func(x):\n",
    "        return chi2.subs(BR,x)-(chi2.subs(BR,BRave)+1)\n",
    "    brAvg[n] = BRave;\n",
    "    aSol1 = fsolve(func,BRin+.15) # upper uncertainty\n",
    "    errBRave1 = aSol1 - BRave;\n",
    "    ebrAvgp[n] = errBRave1;\n",
    "    aSol2 = fsolve(func,BRin-.15) # lower uncertainty\n",
    "    errBRave2 = aSol2 - BRave;\n",
    "    ebrAvgm[n] = errBRave2;\n",
    "print time()-t"
   ]
  },
  {
   "cell_type": "code",
   "execution_count": 8,
   "metadata": {
    "collapsed": false
   },
   "outputs": [
    {
     "name": "stdout",
     "output_type": "stream",
     "text": [
      "10.0086082422\n",
      "0.265571286021554\n",
      "0.0265571286021554\n",
      "0.324140545958923\n",
      "0.274077211725\n",
      "-0.266067121095\n",
      "0.270101861262101\n",
      "0.00242690749811\n",
      "0.0100244287600633\n",
      "0.242099331163674\n"
     ]
    }
   ],
   "source": [
    "print brAvg.mean()\n",
    "print sqrt(brAvg.var())\n",
    "print sqrt(brAvg.var()/nTrials)\n",
    "print (brAvg.mean()-beamrateR)/sqrt(brAvg.var()/nTrials)\n",
    "print ebrAvgp.mean()\n",
    "print ebrAvgm.mean()\n",
    "print sqrt((ebrAvgp.mean()**2+ebrAvgm.mean()**2)/2)\n",
    "print (ebrAvgp.mean()**2+ebrAvgm.mean()**2-2*brAvg.var())/2\n",
    "print sqrt((2*brAvg.var()**2/(nTrials-1)))\n",
    "print (ebrAvgp.mean()**2+ebrAvgm.mean()**2-2*brAvg.var())/2/sqrt((2*brAvg.var()**2/(nTrials-1)))"
   ]
  },
  {
   "cell_type": "markdown",
   "metadata": {},
   "source": [
    "The values below are the ones written into the assignment.  My algorithm's results using this input are shown."
   ]
  },
  {
   "cell_type": "code",
   "execution_count": 9,
   "metadata": {
    "collapsed": false
   },
   "outputs": [
    {
     "name": "stdout",
     "output_type": "stream",
     "text": [
      "0.00677895545959\n",
      "0.102093935013\n",
      "0.0219538211823\n",
      "0.045567035675\n",
      "0.0381970405579\n",
      "0.0424160957336\n"
     ]
    }
   ],
   "source": [
    "m1 = 10213; m2 = 10067; bkg1m = 25068*nTsig1/nTbkg; bkg2m = 24805*nTsig1/nTbkg;\n",
    "br1 = (m1-bkg1m)/nTsig1/effaR; # measured beam rate for detector 1 \n",
    "br2 = (m2-bkg2m)/nTsig2/effaR;\n",
    "BRin = (br1+br2)/2; # naive average; used to guide FindRoot below \n",
    "f1 = BR/br1; f2 = BR/br2;  # this factor scales multiplicative uncertainties     \n",
    "Vstat = Matrix([[m1/nTsig1**2/effaR**2,0],[0,m2/nTsig2**2/effaR**2]]); # note use of nominal acceptance effaR \n",
    "vbkg11m = bkg1m*nTsig1/nTbkg + bkg1m**2*corbkg**2; # error on bkg estimate, including systematic \n",
    "vbkg22m = bkg2m*nTsig2/nTbkg + bkg2m**2*corbkg**2;\n",
    "vbkg12m = bkg1m*bkg2m*corbkg**2; # correlated backround term \n",
    "t=time()\n",
    "Vbkg  = Matrix([[vbkg11m/nTsig1**2/effaR**2,vbkg12m/nTsig1/nTsig2/effaR**2], \n",
    "            [vbkg12m/nTsig1/nTsig2/effaR**2,vbkg22m/nTsig2**2/effaR**2]]);\n",
    "VeffA = Matrix([[br1**2*f1**2*deffaR**2/effaR**2,br1*br2*f1*f2*deffaR**2/effaR**2], \n",
    "            [br1*br2*f1*f2*deffaR**2/effaR**2,br2**2*f2**2*deffaR**2/effaR**2]]);\n",
    "Vtot = Vstat+Vbkg+VeffA; # total covariance; depends on parameter BR  \n",
    "print time()-t\n",
    "\n",
    "t=time()\n",
    "chi2 = (Matrix([br1-BR,br2-BR]).transpose()*Vtot.inv()*Matrix([br1-BR,br2-BR]))[0];\n",
    "print time()-t\n",
    "\n",
    "t=time()\n",
    "dchi2 = chi2.diff(BR)\n",
    "print time()-t\n",
    "t=time()\n",
    "# aSol = nsolve(dchi2,BR,BRin)\n",
    "def dfunc(x):\n",
    "        return dchi2.subs(BR,x)\n",
    "aSol = fsolve(dfunc,BRin)\n",
    "print time()-t\n",
    "t=time()\n",
    "BRave = aSol\n",
    "def func(x):\n",
    "        return chi2.subs(BR,x)-(chi2.subs(BR,BRave)+1)\n",
    "aSol1 = fsolve(func,BRin+0.15) # upper uncertainty\n",
    "print time()-t\n",
    "t=time()\n",
    "errBRave1 = aSol1 - BRave;\n",
    "aSol2 = fsolve(func,BRin-0.15) # lower uncertainty\n",
    "errBRave2 = aSol2 - BRave;\n",
    "print time()-t"
   ]
  },
  {
   "cell_type": "code",
   "execution_count": 11,
   "metadata": {
    "collapsed": false
   },
   "outputs": [
    {
     "data": {
      "image/png": "[encoded data removed]",
      "text/plain": [
       "<matplotlib.figure.Figure at 0x113a5a190>"
      ]
     },
     "metadata": {},
     "output_type": "display_data"
    }
   ],
   "source": [
    "fn=lambdify(BR,dchi2,\"numpy\")\n",
    "xn=np.linspace(8,12,100)\n",
    "yn=fn(xn)\n",
    "ifig=ifig+1\n",
    "plt.close(ifig),select_fig(ifig)\n",
    "plt.plot(xn,yn)\n",
    "plt.xlabel(\"BR\")\n",
    "plt.ylabel(\"dchi2\")\n",
    "plt.show()"
   ]
  },
  {
   "cell_type": "code",
   "execution_count": 12,
   "metadata": {
    "collapsed": false
   },
   "outputs": [
    {
     "data": {
      "image/png": "[encoded data removed]",
      "text/plain": [
       "<matplotlib.figure.Figure at 0x1164b3690>"
      ]
     },
     "metadata": {},
     "output_type": "display_data"
    }
   ],
   "source": [
    "fn=lambdify(BR,chi2,\"numpy\")\n",
    "xn=np.linspace(8,12,100)\n",
    "yn=fn(xn)\n",
    "ifig=ifig+1\n",
    "plt.close(ifig),select_fig(ifig)\n",
    "plt.plot(xn,yn)\n",
    "plt.xlabel(\"BR\")\n",
    "plt.ylabel(\"chi2\")\n",
    "plt.show()"
   ]
  },
  {
   "cell_type": "code",
   "execution_count": 13,
   "metadata": {
    "collapsed": false
   },
   "outputs": [
    {
     "name": "stdout",
     "output_type": "stream",
     "text": [
      "[ 9.55622187]\n",
      "[ 0.26645185]\n",
      "[-0.25880381]\n",
      "0.689498237015023\n",
      "0.0244140625\n",
      "[ 0.03652855]\n",
      "Matrix([[0.0774251062179213, 0.0608180716866713], [0.0608180716866713, 0.0766805046944838]])\n",
      "9.63275\n",
      "9.483125\n",
      "0.128868283651370\n"
     ]
    }
   ],
   "source": [
    "print BRave\n",
    "print errBRave1\n",
    "print errBRave2\n",
    "print chi2.subs(BR,BRave)\n",
    "print (0.05/0.80*2.5)**2\n",
    "print BRave**2*(.016/.80)**2\n",
    "A = Vtot.subs(BR,BRave)\n",
    "print A\n",
    "print br1\n",
    "print br2\n",
    "A = Vtot.subs(BR,BRave)\n",
    "print sqrt(A[0,0]-A[0,1])"
   ]
  },
  {
   "cell_type": "markdown",
   "metadata": {},
   "source": [
    "Split out the components of the covariance"
   ]
  },
  {
   "cell_type": "code",
   "execution_count": 14,
   "metadata": {
    "collapsed": false
   },
   "outputs": [
    {
     "name": "stdout",
     "output_type": "stream",
     "text": [
      "Matrix([[0.0809654512030469, 0.0643584166717969], [0.0643584166717969, 0.0802208496796094]])\n",
      "Matrix([[0.0249387431250000, 0.0242895210937500], [0.0242895210937500, 0.0244222666015625]])\n",
      "Matrix([[0.0159578125000000, 0], [0, 0.0157296875000000]])\n",
      "Matrix([[0.0400688955780469, 0.0400688955780469], [0.0400688955780469, 0.0400688955780469]])\n"
     ]
    }
   ],
   "source": [
    "print Vtot.subs(BR,brAvg.mean())\n",
    "print Vbkg\n",
    "print Vstat\n",
    "print VeffA.subs(BR,brAvg.mean())"
   ]
  },
  {
   "cell_type": "code",
   "execution_count": 15,
   "metadata": {
    "collapsed": false
   },
   "outputs": [
    {
     "name": "stdout",
     "output_type": "stream",
     "text": [
      "9.5579375\n",
      "0.265898295098574\n"
     ]
    }
   ],
   "source": [
    "m12 = (m1 + m2)/2; b12 = (bkg1m + bkg2m)/2;\n",
    "br12 = (m12-b12)/nTsig1/effaR\n",
    "Var12 = (m12/2 + b12/2 + b12**2*corbkg**2)/(nTsig1*effaR)**2 + br12**2*deffaR**2/effaR**2;\n",
    "print br12\n",
    "print sqrt(Var12)"
   ]
  },
  {
   "cell_type": "code",
   "execution_count": null,
   "metadata": {
    "collapsed": true
   },
   "outputs": [],
   "source": []
  }
 ],
 "metadata": {
  "anaconda-cloud": {},
  "kernelspec": {
   "display_name": "Python 2",
   "language": "python",
   "name": "python2"
  },
  "language_info": {
   "codemirror_mode": {
    "name": "ipython",
    "version": 2
   },
   "file_extension": ".py",
   "mimetype": "text/x-python",
   "name": "python",
   "nbconvert_exporter": "python",
   "pygments_lexer": "ipython2",
   "version": "2.7.11"
  }
 },
 "nbformat": 4,
 "nbformat_minor": 0
}
