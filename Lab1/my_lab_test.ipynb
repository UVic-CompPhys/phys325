{
 "cells": [
  {
   "cell_type": "markdown",
   "metadata": {},
   "source": [
    "## Momentum loss by charged pions, kaons and protons\n",
    "\n",
    "In this problem we calculate the momentum lost by charged pions, kaons and protons when traversing a 0.4 mm thick beam pipe made of Beryllium (we take p = 100 MeV/c as the incident momentum for this calculation).  The energy loss formula (Bethe-Bloch) used comes from http://pdg.lbl.gov/2016/reviews/rpp2016-rev-passage-particles-matter.pdf.  The energy loss depends on the particle speed, so the solution involves stepping through the medium and updating the speed as the particle loses energy (Bob Kowalewski)."
   ]
  },
  {
   "cell_type": "code",
   "execution_count": 50,
   "metadata": {
    "collapsed": false
   },
   "outputs": [],
   "source": [
    "from __future__ import division\n",
    "from sympy import *\n",
    "import numpy as np\n",
    "import matplotlib.pyplot as plt\n",
    "from time import time\n",
    "\n",
    "# begin counting figures\n",
    "ifig=0\n",
    "for i in range(0,10000):\n",
    "    plt.close(i)\n",
    "    \n",
    "def select_fig(ifig,close_fig=True):\n",
    "    if close_fig:\n",
    "        plt.close(ifig)\n",
    "    plt.figure(ifig)\n",
    "\n",
    "fsize=16\n",
    "plt.rcParams['font.size'] = 14\n",
    "plt.rcParams['font.family'] = 'serif'\n",
    "\n",
    "init_printing()"
   ]
  },
  {
   "cell_type": "code",
   "execution_count": 51,
   "metadata": {
    "collapsed": false
   },
   "outputs": [],
   "source": [
    "# Clear[beta,gamma,betgam,z,Z,A,m];\n",
    "# beta = Sqrt[betgam^2/(1+betgam^2)];\n",
    "# gamma = Sqrt[betgam^2 + 1];\n",
    "# Tmax = 2m betgam^2/(1+2gamma m/M + (m/M)^2)\n",
    "# dEdx = 0.307 z^2 (Z/A) 1/beta^2 ( 0.5 Log[2 m betgam^2 Tmax / (Ion/10^6)^2] - beta^2 - delta/2)\n",
    "\n",
    "beta, gamma, betgam, z, Z, A, m, M, Tmax, dEdx, Ion, delta, p = symbols('beta gamma betgam z Z A m M Tmax dEdx Ion delta p')\n",
    "beta = sqrt(betgam**2/(1+betgam**2))\n",
    "gamma = sqrt(betgam**2 + 1)"
   ]
  },
  {
   "cell_type": "code",
   "execution_count": 52,
   "metadata": {
    "collapsed": false
   },
   "outputs": [
    {
     "data": {
      "image/png": "[encoded data removed]",
      "text/latex": [
       "$$\\frac{2 betgam^{2} m}{1 + \\frac{2 m}{M} \\sqrt{betgam^{2} + 1} + \\frac{m^{2}}{M^{2}}}$$"
      ],
      "text/plain": [
       "                 2           \n",
       "         2⋅betgam ⋅m         \n",
       "─────────────────────────────\n",
       "           _____________     \n",
       "          ╱       2         2\n",
       "    2⋅m⋅╲╱  betgam  + 1    m \n",
       "1 + ──────────────────── + ──\n",
       "             M              2\n",
       "                           M "
      ]
     },
     "execution_count": 52,
     "metadata": {},
     "output_type": "execute_result"
    }
   ],
   "source": [
    "Tmax = 2*m*betgam**2/(1+2*gamma*m/M+(m/M)**2)\n",
    "Tmax"
   ]
  },
  {
   "cell_type": "code",
   "execution_count": 53,
   "metadata": {
    "collapsed": false
   },
   "outputs": [
    {
     "data": {
      "image/png": "[encoded data removed]",
      "text/latex": [
       "$$\\frac{0.307 Z z^{2}}{A betgam^{2}} \\left(betgam^{2} + 1\\right) \\left(- \\frac{betgam^{2}}{betgam^{2} + 1} - \\frac{\\delta}{2} + 0.5 \\log{\\left (\\frac{4000000000000 betgam^{4} m^{2}}{Ion^{2} \\left(1 + \\frac{2 m}{M} \\sqrt{betgam^{2} + 1} + \\frac{m^{2}}{M^{2}}\\right)} \\right )}\\right)$$"
      ],
      "text/plain": [
       "                         ⎛          2                ⎛                        \n",
       "         2 ⎛      2    ⎞ ⎜    betgam      δ          ⎜      4000000000000⋅betg\n",
       "0.307⋅Z⋅z ⋅⎝betgam  + 1⎠⋅⎜- ─────────── - ─ + 0.5⋅log⎜────────────────────────\n",
       "                         ⎜        2       2          ⎜     ⎛           _______\n",
       "                         ⎜  betgam  + 1              ⎜     ⎜          ╱       \n",
       "                         ⎜                           ⎜   2 ⎜    2⋅m⋅╲╱  betgam\n",
       "                         ⎜                           ⎜Ion ⋅⎜1 + ──────────────\n",
       "                         ⎜                           ⎜     ⎜             M    \n",
       "                         ⎝                           ⎝     ⎝                  \n",
       "──────────────────────────────────────────────────────────────────────────────\n",
       "                                                 2                            \n",
       "                                         A⋅betgam                             \n",
       "\n",
       "  4  2      ⎞⎞\n",
       "am ⋅m       ⎟⎟\n",
       "────────────⎟⎟\n",
       "______     ⎞⎟⎟\n",
       "2         2⎟⎟⎟\n",
       "  + 1    m ⎟⎟⎟\n",
       "────── + ──⎟⎟⎟\n",
       "          2⎟⎟⎟\n",
       "         M ⎠⎠⎠\n",
       "──────────────\n",
       "              \n",
       "              "
      ]
     },
     "execution_count": 53,
     "metadata": {},
     "output_type": "execute_result"
    }
   ],
   "source": [
    "dEdx = 0.307*z**2*(Z/A)/beta**2*(0.5*log(2*m*betgam**2*Tmax/(Ion/10**6)**2) - beta**2 - delta/2)\n",
    "dEdx"
   ]
  },
  {
   "cell_type": "code",
   "execution_count": 54,
   "metadata": {
    "collapsed": true
   },
   "outputs": [],
   "source": [
    "mpi = 139.57; mK = 493.68; mp = 938.28;"
   ]
  },
  {
   "cell_type": "markdown",
   "metadata": {},
   "source": [
    "Energy loss in support tube (1 mm Carbon or Be)"
   ]
  },
  {
   "cell_type": "code",
   "execution_count": 55,
   "metadata": {
    "collapsed": true
   },
   "outputs": [],
   "source": [
    "rhoBe = 1.848; supportTube = 0.04; # support tube density and thickness "
   ]
  },
  {
   "cell_type": "code",
   "execution_count": 56,
   "metadata": {
    "collapsed": false
   },
   "outputs": [
    {
     "name": "stdout",
     "output_type": "stream",
     "text": [
      "0.257864114694085\n",
      "1.65035422507498\n",
      "4.66393535029152\n"
     ]
    }
   ],
   "source": [
    "# eLosspiBe = (dEdx/.{z->1,Z->4,A->9,m->0.511,delta->0,Ion->63.7,betgam->p/M}/.M->mpi/.p->100) rhoBe supportTube\n",
    "eLosspiBe=dEdx.evalf(subs={z: 1, Z: 4, A: 9, m: 0.511, delta: 0, Ion: 63.7, betgam: p/M, M: mpi, p: 100})*rhoBe*supportTube\n",
    "print eLosspiBe\n",
    "# eLossKBe = (dEdx/.{z->1,Z->4,A->9,m->0.511,delta->0,Ion->63.7,betgam->p/M}/.M->mK/.p->100) rhoBe supportTube\n",
    "eLossKBe=dEdx.evalf(subs={z: 1, Z: 4, A: 9, m: 0.511, delta: 0, Ion: 63.7, betgam: p/M, M: mK, p: 100})*rhoBe*supportTube\n",
    "print eLossKBe\n",
    "# eLosspBe = (dEdx/.{z->1,Z->4,A->9,m->0.511,delta->0,Ion->63.7,betgam->p/M}/.M->mp/.p->100) rhoBe supportTube\n",
    "eLosspBe=dEdx.evalf(subs={z: 1, Z: 4, A: 9, m: 0.511, delta: 0, Ion: 63.7, betgam: p/M, M: mp, p: 100})*rhoBe*supportTube\n",
    "print eLosspBe"
   ]
  },
  {
   "cell_type": "code",
   "execution_count": 57,
   "metadata": {
    "collapsed": false
   },
   "outputs": [
    {
     "name": "stdout",
     "output_type": "stream",
     "text": [
      "99.5566050877739\n",
      "91.3243469021213\n",
      "34.9289399115045\n"
     ]
    }
   ],
   "source": [
    "# pfpi = Sqrt[(Sqrt[100^2+mpi^2]-eLosspiBe)^2-mpi^2]\n",
    "pfpi = sqrt((sqrt(100**2+mpi**2)-eLosspiBe)**2-mpi**2)\n",
    "print pfpi\n",
    "# pfK = Sqrt[(Sqrt[100^2+mK^2]-eLossKBe)^2-mK^2]\n",
    "pfK = sqrt((sqrt(100**2+mK**2)-eLossKBe)**2-mK**2)\n",
    "print pfK\n",
    "# pfp = Sqrt[(Sqrt[100^2+mp^2]-eLosspBe)^2-mp^2]\n",
    "pfp = sqrt((sqrt(100**2+mp**2)-eLosspBe)**2-mp**2)\n",
    "print pfp"
   ]
  },
  {
   "cell_type": "markdown",
   "metadata": {},
   "source": [
    "Now iterate by stepping through the Be pipe to account for the variation in specific ionization as the particles lose energy.  The initial momentum for each particle is 100 MeV, updated in each iteration."
   ]
  },
  {
   "cell_type": "code",
   "execution_count": 58,
   "metadata": {
    "collapsed": true
   },
   "outputs": [],
   "source": [
    "ppistep = 100; pKstep = 100; ppstep = 100; nstep=4000;"
   ]
  },
  {
   "cell_type": "code",
   "execution_count": 59,
   "metadata": {
    "collapsed": false
   },
   "outputs": [
    {
     "name": "stdout",
     "output_type": "stream",
     "text": [
      "103.600162029\n"
     ]
    }
   ],
   "source": [
    "# For [step=1, step<nstep+1, step+=1, {\n",
    "# eLosspiBestep = (dEdx/.{z->1,Z->4,A->9,m->0.511,delta->0,Ion->63.7,betgam->p/M}/.M->mpi/.p->ppistep) rhoBe supportTube/nstep;\n",
    "# eLossKBestep  = (dEdx/.{z->1,Z->4,A->9,m->0.511,delta->0,Ion->63.7,betgam->p/M}/.M->mK /.p->pKstep ) rhoBe supportTube/nstep;\n",
    "# eLosspBestep  = If[Re[ppstep] > 0.1, (dEdx/.{z->1,Z->4,A->9,m->0.511,delta->0,Ion->63.7,betgam->p/M}/.M->mp /.p->ppstep ) rhoBe supportTube/nstep, 0];\n",
    "# ppistep = Sqrt[(Sqrt[ppistep^2+mpi^2]-eLosspiBestep)^2-mpi^2];\n",
    "# pKstep = Sqrt[(Sqrt[pKstep^2+mK^2]-eLossKBestep)^2-mK^2];\n",
    "# ppstep = If[eLosspBestep>0, Sqrt[(Sqrt[ppstep^2+mp^2]-eLosspBestep)^2-mp^2], 0.001];\n",
    "# }]\n",
    "\n",
    "# the following evaluations may take a few minutes\n",
    "\n",
    "t=time()\n",
    "\n",
    "for step in range(1,nstep+1):\n",
    "    eLosspiBestep=dEdx.evalf(subs={z: 1, Z: 4, A: 9, m: 0.511, delta: 0, Ion: 63.7, betgam: p/M, M: mpi, p: ppistep})*rhoBe*supportTube/nstep\n",
    "    eLossKBestep=dEdx.evalf(subs={z: 1, Z: 4, A: 9, m: 0.511, delta: 0, Ion: 63.7, betgam: p/M, M: mK, p: pKstep})*rhoBe*supportTube/nstep\n",
    "    if re(ppstep) > 0.1:\n",
    "        eLosspBestep=dEdx.evalf(subs={z: 1, Z: 4, A: 9, m: 0.511, delta: 0, Ion: 63.7, betgam: p/M, M: mp, p: ppstep})*rhoBe*supportTube/nstep\n",
    "    else:\n",
    "        eLosspBestep=0\n",
    "    ppistep = sqrt((sqrt(ppistep**2+mpi**2)-eLosspiBestep)**2-mpi**2)\n",
    "    pKstep = sqrt((sqrt(pKstep**2+mK**2)-eLossKBestep)**2-mK**2)\n",
    "    if eLosspBestep > 0:\n",
    "        ppstep = sqrt((sqrt(ppstep**2+mp**2)-eLosspBestep)**2-mp**2)\n",
    "    else:\n",
    "        ppstep = 0.001\n",
    "        \n",
    "print time()-t"
   ]
  },
  {
   "cell_type": "markdown",
   "metadata": {},
   "source": [
    "The results stepping through the full beam pipe.  The proton has lost all of its momentum, i.e. stops in the beam pipe."
   ]
  },
  {
   "cell_type": "code",
   "execution_count": 38,
   "metadata": {
    "collapsed": false
   },
   "outputs": [
    {
     "name": "stdout",
     "output_type": "stream",
     "text": [
      "99.5554741582085\n",
      "90.6005518730904\n",
      "0.001\n"
     ]
    }
   ],
   "source": [
    "print ppistep\n",
    "print pKstep\n",
    "print ppstep"
   ]
  },
  {
   "cell_type": "markdown",
   "metadata": {},
   "source": [
    "The energy lost for the pion and kaon:"
   ]
  },
  {
   "cell_type": "code",
   "execution_count": 39,
   "metadata": {
    "collapsed": false
   },
   "outputs": [
    {
     "name": "stdout",
     "output_type": "stream",
     "text": [
      "0.258520856382347\n",
      "1.78150849631186\n"
     ]
    }
   ],
   "source": [
    "# Sqrt[100^2+mpi^2]-Sqrt[ppistep^2+mpi^2]\n",
    "# Sqrt[100^2+mK^2]-Sqrt[pKstep^2+mK^2]\n",
    "print sqrt(100**2+mpi**2)-sqrt(ppistep**2+mpi**2)\n",
    "print sqrt(100**2+mK**2)-sqrt(pKstep**2+mK**2)"
   ]
  }
 ],
 "metadata": {
  "anaconda-cloud": {},
  "kernelspec": {
   "display_name": "Python 2",
   "language": "python",
   "name": "python2"
  },
  "language_info": {
   "codemirror_mode": {
    "name": "ipython",
    "version": 2
   },
   "file_extension": ".py",
   "mimetype": "text/x-python",
   "name": "python",
   "nbconvert_exporter": "python",
   "pygments_lexer": "ipython2",
   "version": "2.7.11"
  }
 },
 "nbformat": 4,
 "nbformat_minor": 0
}
