{
 "cells": [
  {
   "cell_type": "markdown",
   "metadata": {},
   "source": [
    "## Too stop the script at the end, Restart Kernel & Clear All Output "
   ]
  },
  {
   "cell_type": "code",
   "execution_count": null,
   "metadata": {
    "collapsed": false
   },
   "outputs": [],
   "source": [
    "from __future__ import division, print_function\n",
    "from sympy import *\n",
    "import numpy as np\n",
    "import matplotlib.pyplot as plt\n",
    "from scipy.constants import *\n",
    "from vpython import *\n",
    "\n",
    "# begin counting figures\n",
    "ifig=0\n",
    "for i in range(0,10000):\n",
    "    plt.close(i)\n",
    "    \n",
    "def select_fig(ifig,close_fig=True):\n",
    "    if close_fig:\n",
    "        plt.close(ifig)\n",
    "    plt.figure(ifig)\n",
    "\n",
    "fsize=16\n",
    "plt.rcParams['font.size'] = 14\n",
    "plt.rcParams['font.family'] = 'serif'"
   ]
  },
  {
   "cell_type": "code",
   "execution_count": null,
   "metadata": {
    "collapsed": false
   },
   "outputs": [],
   "source": [
    "from math import sqrt,sin,pi\n",
    "from numpy import empty\n",
    "from pylab import imshow,gray,show\n",
    "\n",
    "wavelength = 5.0\n",
    "k = 2*pi/wavelength\n",
    "xi0 = 1.0\n",
    "separation = 20.0      # Separation of centers in cm\n",
    "side = 100.0           # Side of the square in cm\n",
    "points = 500           # Number of grid points along each side\n",
    "spacing = side/points  # Spacing of points in cm\n",
    "\n",
    "# Calculate the positions of the centers of the circles\n",
    "x1 = side/2 + separation/2\n",
    "y1 = side/2\n",
    "x2 = side/2 - separation/2\n",
    "y2 = side/2\n",
    "\n",
    "# Make an array to store the heights\n",
    "xi = empty([points,points],float)\n",
    "\n",
    "# Calculate the values in the array\n",
    "for i in range(points):\n",
    "    y = spacing*i\n",
    "    for j in range(points):\n",
    "        x = spacing*j\n",
    "        r1 = sqrt((x-x1)**2+(y-y1)**2)\n",
    "        r2 = sqrt((x-x2)**2+(y-y2)**2)\n",
    "        xi[i,j] = xi0*sin(k*r1) + xi0*sin(k*r2)\n",
    "\n",
    "# Make the plot\n",
    "ifig=ifig+1\n",
    "plt.close(ifig),select_fig(ifig)\n",
    "\n",
    "imshow(xi,origin=\"lower\",extent=[0,side,0,side])\n",
    "gray()\n",
    "show()"
   ]
  },
  {
   "cell_type": "code",
   "execution_count": null,
   "metadata": {
    "collapsed": true
   },
   "outputs": [],
   "source": []
  }
 ],
 "metadata": {
  "kernelspec": {
   "display_name": "Python 2",
   "language": "python",
   "name": "python2"
  },
  "language_info": {
   "codemirror_mode": {
    "name": "ipython",
    "version": 2
   },
   "file_extension": ".py",
   "mimetype": "text/x-python",
   "name": "python",
   "nbconvert_exporter": "python",
   "pygments_lexer": "ipython2",
   "version": "2.7.11"
  }
 },
 "nbformat": 4,
 "nbformat_minor": 0
}
